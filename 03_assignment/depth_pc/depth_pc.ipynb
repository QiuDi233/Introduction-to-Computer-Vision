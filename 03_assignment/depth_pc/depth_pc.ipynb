{
 "cells": [
  {
   "cell_type": "code",
   "execution_count": 2,
   "metadata": {},
   "outputs": [],
   "source": [
    "import numpy as np\n",
    "import cv2"
   ]
  },
  {
   "cell_type": "code",
   "execution_count": 3,
   "metadata": {},
   "outputs": [
    {
     "name": "stdout",
     "output_type": "stream",
     "text": [
      "[[415.69219382   0.         320.        ]\n",
      " [  0.         415.69219382 240.        ]\n",
      " [  0.           0.           1.        ]]\n"
     ]
    }
   ],
   "source": [
    "# read depth image\n",
    "depth_scale = 0.00012498664727900177\n",
    "depth_img = cv2.imread('depth.png')\n",
    "dpt = depth_img[:, :, 2] + depth_img[:, :, 1] * 256\n",
    "dpt = dpt * depth_scale\n",
    "\n",
    "# read seg image\n",
    "seg = cv2.imread('seg.png')[...,0]  # 255: fore ground, 0: background\n",
    "\n",
    "# read intrinsics and extrinsics\n",
    "K = np.load('intrinsic.npy')\n",
    "print(K)"
   ]
  },
  {
   "cell_type": "code",
   "execution_count": 27,
   "metadata": {},
   "outputs": [],
   "source": [
    "import imageio.v3 as iio\n",
    "import numpy as np\n",
    "import matplotlib.pyplot as plt\n",
    "import open3d as o3d\n",
    "\n",
    "# task1: convert depth image to point cloud\n",
    "def depth2pc(depth, seg, K):\n",
    "    # ------------TODO---------------\n",
    "    # compute point cloud from depth image\n",
    "    # for-loop is not allowed!!\n",
    "    # ------------TODO --------------\n",
    "    fx = K[0,0]\n",
    "    fy = K[1,1]\n",
    "    cx = K[0,2]\n",
    "    cy = K[1,2]\n",
    "\n",
    "    pc = []\n",
    "    height, width = depth.shape\n",
    "    mask = (seg == 255)\n",
    "\n",
    "    z = depth[mask]\n",
    "    y, x = np.nonzero(mask) #获取前景索引\n",
    "    x = (x - cx) * z / fx\n",
    "    y = (y - cy) * z / fy\n",
    "\n",
    "    # 构造点云\n",
    "    pc = np.column_stack((x, y, z))\n",
    "    pc = np.array(pc)\n",
    "    \n",
    "    return pc\n",
    "\n",
    "\n",
    "partial_pc = depth2pc(dpt, seg, K)\n",
    "\n",
    "#可视化检验结果\n",
    "#pcd_o3d = o3d.geometry.PointCloud() \n",
    "#pcd_o3d.points = o3d.utility.Vector3dVector(partial_pc) \n",
    "#o3d.visualization.draw_geometries([pcd_o3d])\n",
    "\n",
    "# For debug and submission\n",
    "np.savetxt('../results/pc_from_depth.txt', partial_pc)"
   ]
  },
  {
   "cell_type": "code",
   "execution_count": 33,
   "metadata": {},
   "outputs": [
    {
     "name": "stdout",
     "output_type": "stream",
     "text": [
      "one way chamfer distance:  0.009902685909389496\n"
     ]
    }
   ],
   "source": [
    "# task2: compute one-way chamfer distance to the complete shape\n",
    "full_pc = np.loadtxt('aligned_full_pc.txt')\n",
    "\n",
    "def random_sample(pc, num):\n",
    "    permu = np.random.permutation(pc.shape[0])\n",
    "    return pc[permu][:num]\n",
    "\n",
    "partial_pc_sampled = random_sample(partial_pc, 2048)\n",
    "full_pc_sampled = random_sample(full_pc, 2048)\n",
    "\n",
    "# -----------TODO---------------\n",
    "# implement one way chamfer distance\n",
    "# -----------TODO---------------\n",
    "def nearest_point(p): #找出full_pc_sampled中离p最近的点\n",
    "    distances = np.linalg.norm(p - full_pc_sampled, axis = 1)\n",
    "    dis_min = np.argmin(distances)\n",
    "    nearest = full_pc_sampled[dis_min]\n",
    "    return nearest\n",
    "\n",
    "def cal_nearest_dis(p): #离p最近的点距离p的distance\n",
    "    nearest = nearest_point(p)\n",
    "    return np.sqrt(np.sum(np.square(p-nearest)))\n",
    "\n",
    "vectorized_nearest_dis = np.vectorize(cal_nearest_dis)\n",
    "nearest_dis = np.apply_along_axis(cal_nearest_dis, axis=1, arr=partial_pc_sampled)\n",
    "\n",
    "one_way_CD = np.mean(nearest_dis)\n",
    "\n",
    "\n",
    "print('one way chamfer distance: ', one_way_CD)\n",
    "\n",
    "# For submission\n",
    "np.savetxt('../results/one_way_CD.txt', [one_way_CD])"
   ]
  }
 ],
 "metadata": {
  "interpreter": {
   "hash": "b4ffbbff3239a731f5036eedf271342b6e0256ecf54d21a0ffa848ef6f1f16b8"
  },
  "kernelspec": {
   "display_name": "Python 3.8.8 ('base')",
   "language": "python",
   "name": "python3"
  },
  "language_info": {
   "codemirror_mode": {
    "name": "ipython",
    "version": 3
   },
   "file_extension": ".py",
   "mimetype": "text/x-python",
   "name": "python",
   "nbconvert_exporter": "python",
   "pygments_lexer": "ipython3",
   "version": "3.7.12"
  },
  "orig_nbformat": 4
 },
 "nbformat": 4,
 "nbformat_minor": 2
}
